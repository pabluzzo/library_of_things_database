{
 "cells": [
  {
   "cell_type": "markdown",
   "id": "0f400eb7",
   "metadata": {},
   "source": [
    "# A UI for managing the inventory of a library of things\n",
    "By Pablo\n",
    "(UvA Data Processing 2025)"
   ]
  },
  {
   "cell_type": "markdown",
   "id": "b97f39d9",
   "metadata": {},
   "source": [
    "A library of things works like a library, but any object can be borrowed. Think of objects you will need to use at some point, but only for a short while. For example: a drill. I want to set one up eventually in my life as a small community initiative run by volunteers. If the thing becomes big enough, a digital database of the people will come in very handy. Because not everyone is acquainted with SQL, a UI would be necessary."
   ]
  },
  {
   "cell_type": "markdown",
   "id": "da703fad",
   "metadata": {},
   "source": [
    "My initial idea was to make the database & UI record (besides items and people) item ownership, item location, item tags, item tag categories, a vouching system, and a detailed log of events. The UML diagram for the database looked like this: ![structure_old](notebook_images/structure_old.jpg)"
   ]
  },
  {
   "cell_type": "markdown",
   "id": "533d26c6",
   "metadata": {},
   "source": [
    "Once I started working on the project, I realised I had to make it more humble, so it ended up looking more like this: ![structure_old](notebook_images/structure_new.jpg)"
   ]
  },
  {
   "cell_type": "markdown",
   "id": "40082ad7",
   "metadata": {},
   "source": [
    "In this project, I built a UI with the python library [tkinter](https://docs.python.org/3/library/tkinter.html). It allows the user to add / delete people and items, edit their fields (except ID), and edit an item's ownership and location. Any of these actions is logged, and the user can view the list of all logged actions, but not edit it."
   ]
  },
  {
   "cell_type": "markdown",
   "id": "e3cd4d98",
   "metadata": {},
   "source": [
    "## The basic structure"
   ]
  },
  {
   "cell_type": "markdown",
   "id": "efb4f4d4",
   "metadata": {},
   "source": [
    "My code relies on two files. A database file I generated beforehand following the UML diagram above, and a python file that initiates the UI. The python file:\n",
    "1. Imports the necessary libraries\n",
    "2. Connects to the database and opens a cursor to interact with it\n",
    "3. Defines some basic functions to be used across menus\n",
    "4. Defines a function to open a window for each of these menus:\n",
    "    1. The main menu, where other menus can be opened\n",
    "    2. The items menu\n",
    "    3. The people menu\n",
    "    4. The list of logged events\n",
    " 5. Runs the main function, which runs the main menu function"
   ]
  },
  {
   "cell_type": "markdown",
   "id": "bc27996a",
   "metadata": {},
   "source": [
    "```python\n",
    "import sqliteimport sqlite`3\n",
    "import tkinter as tk\n",
    "from tkinter import ttk\n",
    "from tkinter import messagebox\n",
    "from datetime import datetime\n",
    "\n",
    "con = sqlite3.connect(\"library.db\", timeout = 5) # connect to database\n",
    "cur = con.cursor() # create cursor for executing SQL code\n",
    "\n",
    "def main():\n",
    "\n",
    "    main_menu()\n",
    "    con.close() # close connection to database\n",
    "\n",
    "    \n",
    "def log_event(...)\n",
    "    \n",
    "def add_person(...)\n",
    "    \n",
    "def add_item(...)\n",
    "\n",
    "def remove(...)\n",
    "\n",
    "def edit_ownership(...)\n",
    "\n",
    "def get_datum(...)\n",
    "\n",
    "def get_item_data(...)\n",
    "\n",
    "def get_person_data(...)\n",
    "\n",
    "def get_item_data((...))\n",
    "\n",
    "\n",
    "def main_menu()\n",
    "\n",
    "def items_menu()\n",
    "\n",
    "def people_menu()\n",
    "\n",
    "def event_logs()\n",
    "\n",
    "\n",
    "if __name__ == '__main__':\n",
    "    main()\n",
    "```"
   ]
  },
  {
   "cell_type": "markdown",
   "id": "57457874",
   "metadata": {},
   "source": [
    "Because of my limited time in this presentation, I cannot go over every single function. I will however go over some that will hopefully exemplify the interactions between tkinter, sqlite3, and python at play."
   ]
  },
  {
   "cell_type": "markdown",
   "id": "774fa9c5",
   "metadata": {},
   "source": [
    "## The main menu\n",
    "![mainmenu](notebook_images/mainmenu.png)"
   ]
  },
  {
   "cell_type": "markdown",
   "id": "43ecebab",
   "metadata": {},
   "source": [
    "The main menu sets up a few simple widgets: a label with a title, and three buttons, each calling a function that opens another window to their respective sub-menus.\n",
    "\n",
    "```python\n",
    "def main_menu():\n",
    "    # set up root window\n",
    "    root = tk.Tk()\n",
    "    root.title(\"Main menu\")\n",
    "    root.geometry(\"400x300\")\n",
    "\n",
    "    # set up frame within the window. Good practice to avoid graphical bugs across operating systems.\n",
    "    rootframe = ttk.Frame(root, padding=\"10\")\n",
    "    rootframe.grid(column=0, row=0, sticky=\"nwes\")\n",
    "    root.columnconfigure(0, weight=1)\n",
    "    root.rowconfigure(0, weight=1)\n",
    "\n",
    "    # set up each button\n",
    "    ttk.Label(rootframe, text=\"Library of things\", anchor=\"center\", font=(\"Helvetica\", 30)).grid(row=0)\n",
    "    ttk.Button(rootframe, text=\"Items\", command=items_menu).grid(row=1)\n",
    "    ttk.Button(rootframe, text=\"People\", command=people_menu).grid(row=2)\n",
    "    ttk.Button(rootframe, text=\"History of changes\", command=event_logs).grid(row=3)\n",
    "\n",
    "    rootframe.grid_columnconfigure(0, weight=1) # tell frame it can expand within the window\n",
    "    for i in range(4): # tell columns they can expand within the frame\n",
    "        rootframe.grid_rowconfigure(i, weight=1)\n",
    "    for child in rootframe.winfo_children(): # tell widgets they can expand within columns\n",
    "        child.grid_configure(padx=5, pady=5, sticky=\"nsew\")\n",
    "\n",
    "    root.mainloop() # open window\n",
    "```"
   ]
  },
  {
   "cell_type": "markdown",
   "id": "1b6c8e01",
   "metadata": {},
   "source": [
    "## The items menu\n",
    "![itemsmenu](notebook_images/itemsmenu.png)"
   ]
  },
  {
   "cell_type": "markdown",
   "id": "bee5b98e",
   "metadata": {},
   "source": [
    "There are a few things going on in the items_menu() function. Besides the window intiation, column and widget setup, here is what happens:\n",
    "\n",
    "1. A global variable is defined to keep track across internal functions of the lastly selected item. This is to avoid the widgets emptying out whenever the user selects something else in any other window. It is kept empty for now.\n",
    "\n",
    "```python\n",
    "global last_item_selection\n",
    "last_item_selection = None\n",
    "```\n",
    "2. The search bar is set up\n",
    "```python\n",
    "search = tk.StringVar()\n",
    "def search_focus_in(event):\n",
    "    \"\"\"\n",
    "    Triggered when user selects the searchbar.\n",
    "    Removes placeholder text and sets font color to black.\n",
    "    \"\"\"\n",
    "    if search_box.get() == \"Search...\":\n",
    "        search_box.delete(0, tk.END)\n",
    "        search_box.config(foreground=\"black\")\n",
    "def search_focus_out(event):\n",
    "    \"\"\"\n",
    "    Triggered when user de-selects the searchbar, and the searchbar is empty.\n",
    "    Sets font color back to grey and adds placeholder text.\n",
    "    \"\"\"\n",
    "    if search_box.get() == \"\":\n",
    "        search_box.insert(0, \"Search...\")\n",
    "        search_box.config(foreground=\"grey\")\n",
    "search_box = ttk.Entry(itemsframe, textvariable=search) # create widget\n",
    "search_box.grid(row=1, column=0, sticky=\"we\")\n",
    "search_box.insert(0, 'Search...')\n",
    "search_box.config(foreground=\"grey\")\n",
    "search_box.bind(\"<FocusIn>\", search_focus_in)\n",
    "search_box.bind(\"<FocusOut>\", search_focus_out)\n",
    "search_box.bind(\"<KeyRelease>\", load_items) # refresh items list (load_items) whenever user types something in the searchbar\n",
    "```\n",
    "\n",
    "\n",
    "2. A function is defined to refresh the list of items based on the search query\n",
    "\n",
    "```python\n",
    "def load_items(event=None):\n",
    "    \"\"\"\n",
    "    Refreshes item listbox and filters it based on user input in the searchbar.\n",
    "    \"\"\"\n",
    "    # get current query from searchbar\n",
    "    if search.get() == 'Search...':\n",
    "        search_query = '' # placeholder text means no actual query\n",
    "    else:\n",
    "        search_query = search.get() # get content from searchbar\n",
    "\n",
    "    items_list.delete(0, tk.END) # empty listbox\n",
    "    cur.execute(\"SELECT * FROM items WHERE name LIKE ? AND name NOT LIKE '%DELETED%' ORDER BY name\", ('%' + search_query + '%',))   # get list of non-deleted items whose name matches the query\n",
    "    items = cur.fetchall()\n",
    "    for row in items:\n",
    "        text = f\"{row[1]} | (ID: {row[0]})\" # name and ID, respecively\n",
    "        items_list.insert(tk.END, text) # insert item content in the listbox\n",
    "```\n",
    "\n",
    "\n",
    "3. Another function refreshes the label widgets to reflect the fields of the currently selected item\n",
    "```python\n",
    "def load_item_data(...):\n",
    "    \n",
    "    # check if item is selected, if not fill labels with 'n/a' and 'No item selected yet' as the name\n",
    "    \n",
    "    # if something is selected:\n",
    "    \n",
    "        # retrieve item data with get_item_data()\n",
    "        \n",
    "        # update label widgets accordingly\n",
    "```\n",
    "\n",
    "\n",
    "4. Another function gets called when user clicks 'edit' next to a field:\n",
    "\n",
    "```python\n",
    "def items_edit_button(...)\n",
    "    \n",
    "    # if nothing is selected or the selected item has been deleted, interrupt\n",
    "    \n",
    "    # open popup window\n",
    "    \n",
    "    # set up labels to display current value and provide user with an entry field\n",
    "    \n",
    "    # define a function to be called when user clicks 'Confirm'. It replaces the old value with the new value provided by the user and logs the event.\n",
    "```\n",
    "![edit_field](notebook_images/edit_field.png)\n",
    "\n",
    "\n",
    "5. Function for editing the owner / location fields:\n",
    "\n",
    "```python\n",
    "def items_edit_person_button(...):\n",
    "    \n",
    "    # same as previous function, but with a list of all people to select one from, instead of an entry field. The listbox + searchbar setup is the same as above.\n",
    "```\n",
    "![edit_location](notebook_images/edit_location.png)\n",
    "\n",
    "\n",
    "6. Function for when user clicks 'Add item'\n",
    "\n",
    "```python\n",
    "def items_add_button(...)\n",
    "\n",
    "    # ONLY IF an empty item doesn't exist already, create one and log event\n",
    "\n",
    "    # unselect current item\n",
    "    \n",
    "    # select empty item and highlight it\n",
    "    \n",
    "    # scroll to empty item\n",
    "    \n",
    "    # refresh widgets\n",
    "```\n",
    "\n",
    "\n",
    "7. Function for 'Delete item' button\n",
    "\n",
    "```python\n",
    "def items_remove_button(...)\n",
    "\n",
    "    # if no item is selected, interrupt \n",
    "    \n",
    "    # if item is already deleted, show warning message telling user to refresh the menu manually\n",
    "    \n",
    "    # show popup message to confirm deletion\n",
    "    \n",
    "    # delete item and log event\n",
    "\n",
    "```"
   ]
  },
  {
   "cell_type": "markdown",
   "id": "2928030c",
   "metadata": {},
   "source": [
    "## The people menu\n",
    "![peoplemenu](notebook_images/peoplemenu.png)"
   ]
  },
  {
   "cell_type": "markdown",
   "id": "1307a592",
   "metadata": {},
   "source": [
    "This is where I started realising that dividing everything into **separate windows** might not have been a smart choice. At this point I already worked a lot on making the items menu work, and did not have the foresight to make the window setup and its functions **more 'pythonically' replicable** than just copy-and-pasting. But alas, I could not start from scratch at this point of the project and decided to go for a copy-and-paste solution.\n",
    "\n",
    "The only change was a more complex for loop of SQL queries to have a list of all the items owned / borrowed by a person show up in its label. The owned / borrowed items are not editable because it would have required a much more complex popup. Instead, it was reasonable to expect the user to edit item ownership / location only via the items menu."
   ]
  },
  {
   "cell_type": "markdown",
   "id": "e1934c77",
   "metadata": {},
   "source": [
    "## The events log (History of changes)\n",
    "![logsmenu](notebook_images/logsmenu.png)"
   ]
  },
  {
   "cell_type": "markdown",
   "id": "70708c42",
   "metadata": {},
   "source": [
    "Again, here the code is unfortunately mostly copy-and-pasted from earlier listbox & searchbar setups, with minor edits to adjust the window size and display of entries. Without making the code even more convoluted, I could only have the user search either an event's time or description. I opted for the latter, as the events are already displayed in chronological order."
   ]
  },
  {
   "cell_type": "markdown",
   "id": "ae92f59e",
   "metadata": {},
   "source": [
    "## Final thoughts\n",
    "If I could go back, **I would have definetly gone about this project differently**. I would have kept everything (exept logs and warning popups) in a single window to make it easier to modularly load and implement functions. This would have probably halved the lines of code. But I have this remorse only because **I am now more aquainted with tkinter**, which only happened because I learned as I worked my way through this project.\n",
    "\n",
    "In the end, I'm satisfied that **the UI works as intended** with only **a single hiccup** (the selected item changing if its name is edited, since the alphabetical position of the item in the list changes). I made sure the code would not break in all other circumstances I could foresee. I could very well see this being used in a small-scale, self-managed, community project."
   ]
  },
  {
   "cell_type": "code",
   "execution_count": null,
   "id": "9c2671fe",
   "metadata": {},
   "outputs": [],
   "source": []
  }
 ],
 "metadata": {
  "kernelspec": {
   "display_name": "Python 3 (ipykernel)",
   "language": "python",
   "name": "python3"
  },
  "language_info": {
   "codemirror_mode": {
    "name": "ipython",
    "version": 3
   },
   "file_extension": ".py",
   "mimetype": "text/x-python",
   "name": "python",
   "nbconvert_exporter": "python",
   "pygments_lexer": "ipython3",
   "version": "3.11.9"
  }
 },
 "nbformat": 4,
 "nbformat_minor": 5
}
